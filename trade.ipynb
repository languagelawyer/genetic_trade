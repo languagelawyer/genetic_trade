{
 "cells": [
  {
   "cell_type": "code",
   "execution_count": 1,
   "metadata": {},
   "outputs": [],
   "source": [
    "import math\n",
    "\n",
    "import numpy as np\n",
    "import pandas as pd\n",
    "\n",
    "import torch\n",
    "import torch.nn as nn\n",
    "from torch.nn.utils import parameters_to_vector, vector_to_parameters\n",
    "\n",
    "from pymoo.core.problem import ElementwiseProblem\n",
    "\n",
    "import column_names\n",
    "from engine import Signal, Spot, Trader\n",
    "import usdt"
   ]
  },
  {
   "cell_type": "code",
   "execution_count": 28,
   "metadata": {},
   "outputs": [
    {
     "data": {
      "text/plain": [
       "325"
      ]
     },
     "execution_count": 28,
     "metadata": {},
     "output_type": "execute_result"
    }
   ],
   "source": [
    "class NNTrader(Trader):\n",
    "\tdef __init__(self, model: nn.Module, max_pos_size: usdt = 100, warmup: int = 600):\n",
    "\t\tsuper().__init__()\n",
    "\n",
    "\t\tself.model = model\n",
    "\t\tself.max_pos_size = max_pos_size\n",
    "\t\tself.warmup = warmup\n",
    "\n",
    "\t@torch.inference_mode()\n",
    "\tdef __call__(self, *, data_so_far: pd.DataFrame, engine: Spot) -> Signal:\n",
    "\t\t# feed the model the ratio of the last two bars Open\n",
    "\t\tratio: float = data_so_far.iloc[-1]['Open'] / data_so_far.iloc[-2]['Open']\n",
    "\t\tratio = math.log(ratio)\n",
    "\t\tratio = torch.tensor([[ratio]], dtype=torch.float64)\n",
    "\t\tsignal = self.model(ratio)\n",
    "\n",
    "\t\t# ignore the first warmup bars\n",
    "\t\tif len(data_so_far) < self.warmup: return Signal.HOLD\n",
    "\n",
    "\t\t# do not trade if the position is too big\n",
    "\t\tif engine.position and engine.position.tot_price >= self.max_pos_size:\n",
    "\t\t\treturn Signal.HOLD\n",
    "\n",
    "\t\tif signal > +0.5: return Signal.BUY\n",
    "\t\tif signal < -0.5: return Signal.SELL\n",
    "\n",
    "\t\treturn Signal.HOLD\n",
    "\n",
    "\n",
    "class Problem(ElementwiseProblem):\n",
    "\t@torch.inference_mode()\n",
    "\tdef __init__(self, model: nn.Module, data: pd.DataFrame, *args, **kwargs):\n",
    "\t\tsuper().__init__(\n",
    "\t\t\tn_var = len(parameters_to_vector(model.parameters())),\n",
    "\t\t\tn_obj = 2,\n",
    "\t\t\tn_constr = 0,\n",
    "\t\t\txl = -10,\n",
    "\t\t\txu = +10,\n",
    "\t\t\t*args,\n",
    "\t\t\t**kwargs,\n",
    "\t\t)\n",
    "\n",
    "\t\tself.model = model\n",
    "\t\tself.data = data\n",
    "\n",
    "\t@torch.inference_mode()\n",
    "\tdef _evaluate(self, x: np.ndarray, out, *args, **kwargs):\n",
    "\t\tself.model.h = None # reset hidden state\n",
    "\t\tvector_to_parameters(torch.from_numpy(x), self.model.parameters())\n",
    "\n",
    "\t\tengine = Spot()\n",
    "\t\ttrader = NNTrader(self.model, max_pos_size=100)\n",
    "\t\tengine.trade(trader=trader, data=self.data, min_order_size=5, initial_quote=200)\n",
    "\n",
    "\t\t# since we are doing minimization, multiply quote by -1\n",
    "\t\tout['F'] = [-1 * engine.quote, engine.mdd]\n",
    "\n",
    "\n",
    "class Model(nn.Module):\n",
    "\tdef __init__(self, input_size=1, hidden_size=10, num_layers=5, bias=True):\n",
    "\t\tsuper().__init__()\n",
    "\t\tself.lstm = nn.LSTM(input_size=input_size, hidden_size=hidden_size, num_layers=num_layers, bias=bias)\n",
    "\t\tself.linear = nn.Linear(hidden_size, 1, bias=bias)\n",
    "\t\tself.h = None # hidden state is preserved between calls\n",
    "\n",
    "\tdef forward(self, x):\n",
    "\t\tx, self.h = self.lstm(x, self.h)\n",
    "\t\tx = self.linear(x)\n",
    "\t\treturn nn.functional.tanh(x)\n",
    "\n",
    "with torch.inference_mode():\n",
    "\tmodel = Model(input_size=1, hidden_size=5, num_layers=2, bias=False)\n",
    "\tmodel.compile()\n",
    "\n",
    "len(parameters_to_vector(model.parameters()))"
   ]
  },
  {
   "cell_type": "code",
   "execution_count": 91,
   "metadata": {},
   "outputs": [
    {
     "name": "stdout",
     "output_type": "stream",
     "text": [
      "File ‘data/XRPUSDT-1s-2025-02.zip’ already there; not retrieving.\n"
     ]
    }
   ],
   "source": [
    "!mkdir -p data\n",
    "!wget -nc https://data.binance.vision/data/spot/monthly/klines/XRPUSDT/1s/XRPUSDT-1s-2025-02.zip -O data/XRPUSDT-1s-2025-02.zip"
   ]
  },
  {
   "cell_type": "code",
   "execution_count": 30,
   "metadata": {},
   "outputs": [],
   "source": [
    "df = pd.read_csv(\n",
    "\t'data/XRPUSDT-1s-2025-02.zip',\n",
    "\tnames = column_names.names,\n",
    "\tindex_col = 'Open time',\n",
    "\tusecols = ['Open time', 'Open', 'High', 'Low', 'Close', 'Volume'],\n",
    "\tskiprows=23 * 60 * 60,\n",
    "\tnrows=2 * 60 * 60,\n",
    ")\n",
    "df.index = pd.to_datetime(df.index, unit='us')"
   ]
  },
  {
   "cell_type": "code",
   "execution_count": 31,
   "metadata": {},
   "outputs": [
    {
     "data": {
      "text/plain": [
       "<pymoo.algorithms.moo.nsga2.NSGA2 at 0x76ab4d3859c0>"
      ]
     },
     "execution_count": 31,
     "metadata": {},
     "output_type": "execute_result"
    }
   ],
   "source": [
    "import multiprocessing\n",
    "\n",
    "from pymoo.algorithms.moo.nsga2 import NSGA2\n",
    "from pymoo.core.problem import StarmapParallelization\n",
    "from pymoo.core.termination import NoTermination\n",
    "from pymoo.operators.crossover.ux import UniformCrossover\n",
    "\n",
    "pool = multiprocessing.Pool()\n",
    "runner = StarmapParallelization(pool.starmap)\n",
    "\n",
    "problem = Problem(model=model, data=df, elementwise_runner=runner)\n",
    "\n",
    "algorithm = NSGA2(\n",
    "\tpop_size=20,\n",
    "\tcrossover=UniformCrossover(prob=1.0),\n",
    ")\n",
    "algorithm.setup(problem, termination=NoTermination())"
   ]
  },
  {
   "cell_type": "code",
   "execution_count": 88,
   "metadata": {},
   "outputs": [],
   "source": [
    "# rerun for as many generations as you want\n",
    "pop = algorithm.ask()\n",
    "algorithm.evaluator.eval(problem, pop)\n",
    "algorithm.tell(infills=pop)\n",
    "res = algorithm.result()"
   ]
  },
  {
   "cell_type": "code",
   "execution_count": 89,
   "metadata": {},
   "outputs": [
    {
     "name": "stdout",
     "output_type": "stream",
     "text": [
      "[[-2.00002786e+02  4.99806038e-05]\n",
      " [-2.00000000e+02  0.00000000e+00]\n",
      " [-2.00000000e+02  0.00000000e+00]\n",
      " [-2.00001753e+02  1.92846618e-05]\n",
      " [-2.00000000e+02  0.00000000e+00]\n",
      " [-2.00000000e+02  0.00000000e+00]\n",
      " [-2.00000000e+02  0.00000000e+00]\n",
      " [-2.00000000e+02  0.00000000e+00]\n",
      " [-2.00000000e+02  0.00000000e+00]\n",
      " [-2.00000000e+02  0.00000000e+00]\n",
      " [-2.00000000e+02  0.00000000e+00]\n",
      " [-2.00000000e+02  0.00000000e+00]\n",
      " [-2.00000000e+02  0.00000000e+00]\n",
      " [-2.00000000e+02  0.00000000e+00]\n",
      " [-2.00000000e+02  0.00000000e+00]\n",
      " [-2.00000000e+02  0.00000000e+00]\n",
      " [-2.00000000e+02  0.00000000e+00]\n",
      " [-2.00000000e+02  0.00000000e+00]\n",
      " [-2.00000000e+02  0.00000000e+00]\n",
      " [-2.00000000e+02  0.00000000e+00]]\n"
     ]
    }
   ],
   "source": [
    "print(res.F)"
   ]
  },
  {
   "cell_type": "code",
   "execution_count": 90,
   "metadata": {},
   "outputs": [],
   "source": [
    "np.savetxt('results.txt', res.X[:1], delimiter=', ')"
   ]
  }
 ],
 "metadata": {
  "kernelspec": {
   "display_name": ".venv",
   "language": "python",
   "name": "python3"
  },
  "language_info": {
   "codemirror_mode": {
    "name": "ipython",
    "version": 3
   },
   "file_extension": ".py",
   "mimetype": "text/x-python",
   "name": "python",
   "nbconvert_exporter": "python",
   "pygments_lexer": "ipython3",
   "version": "3.10.12"
  }
 },
 "nbformat": 4,
 "nbformat_minor": 2
}
