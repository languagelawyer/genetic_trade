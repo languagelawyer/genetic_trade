{
 "cells": [
  {
   "cell_type": "code",
   "execution_count": 1,
   "id": "0616d265",
   "metadata": {},
   "outputs": [
    {
     "name": "stdout",
     "output_type": "stream",
     "text": [
      "File ‘data/XRPUSDT-1s-2025-02.zip’ already there; not retrieving.\n"
     ]
    }
   ],
   "source": [
    "!mkdir -p data\n",
    "!wget -nc https://data.binance.vision/data/spot/monthly/klines/XRPUSDT/1s/XRPUSDT-1s-2025-02.zip -O data/XRPUSDT-1s-2025-02.zip"
   ]
  },
  {
   "cell_type": "code",
   "execution_count": 2,
   "id": "36dc69d9",
   "metadata": {},
   "outputs": [],
   "source": [
    "import zipfile\n",
    "\n",
    "import numpy as np\n",
    "\n",
    "import binance_column_names as bcn\n",
    "\n",
    "with zipfile.ZipFile('data/XRPUSDT-1s-2025-02.zip', 'r') as zf:\n",
    "\twith zf.open('XRPUSDT-1s-2025-02.csv') as f:\n",
    "\t\tdata = np.loadtxt(\n",
    "\t\t\tf,\n",
    "\t\t\tdelimiter=',',\n",
    "\t\t\tusecols=range(0, 6), # open time, open, high, low, close, volume\n",
    "\t\t\tdtype={\n",
    "\t\t\t\t'names': bcn.names[:6],\n",
    "\t\t\t\t'formats': [np.int64] + [np.float64] * 5,\n",
    "\t\t\t},\n",
    "\t\t\tskiprows=5*24*60*60,\n",
    "\t\t\tmax_rows=2*24*60*60,\n",
    "\t\t)"
   ]
  },
  {
   "cell_type": "code",
   "execution_count": 3,
   "id": "a629b39a",
   "metadata": {},
   "outputs": [
    {
     "name": "stdout",
     "output_type": "stream",
     "text": [
      "-- Configuring done\n",
      "-- Generating done\n",
      "-- Build files have been written to: /home/user/projects/algotrade/build\n",
      "\u001b[35m\u001b[1mConsolidate compiler generated dependencies of target rnn_trader\u001b[0m\n",
      "[100%] Built target rnn_trader\n"
     ]
    }
   ],
   "source": [
    "!cmake -DCMAKE_EXPORT_COMPILE_COMMANDS:BOOL=TRUE -Bbuild && cmake --build build --target rnn_trader\n",
    "\n",
    "import ctypes\n",
    "\n",
    "lib =  ctypes.CDLL('./build/librnn_trader.so')\n",
    "\n",
    "n_var = ctypes.c_size_t.in_dll(lib, 'rnn_trader_var')\n",
    "n_obj = ctypes.c_size_t.in_dll(lib, 'rnn_trader_obj')\n",
    "rnn_trader_candles = ctypes.c_void_p.in_dll(lib, 'rnn_trader_candles')\n",
    "rnn_trader_candlle_count = ctypes.c_size_t.in_dll(lib, 'rnn_trader_candlle_count')\n",
    "\n",
    "rnn_trader_run = lib.rnn_trader_run\n",
    "rnn_trader_run.restype = None\n",
    "rnn_trader_run.argtypes = [ctypes.c_double * n_var.value, ctypes.c_double * n_obj.value]\n",
    "\n",
    "rnn_trader_candles.value = data.ctypes.data_as(ctypes.c_void_p).value\n",
    "rnn_trader_candlle_count.value = data.shape[0]"
   ]
  },
  {
   "cell_type": "code",
   "execution_count": null,
   "id": "da3f8446",
   "metadata": {},
   "outputs": [],
   "source": [
    "import math\n",
    "from multiprocessing.pool import ThreadPool as Pool\n",
    "\n",
    "pool = Pool()\n",
    "\n",
    "from pymoo.algorithms.moo.nsga2 import NSGA2\n",
    "from pymoo.core.evaluator import Evaluator\n",
    "from pymoo.core.problem import Problem\n",
    "from pymoo.core.termination import NoTermination\n",
    "from pymoo.operators.crossover.ux import UniformCrossover\n",
    "from pymoo.problems.static import StaticProblem\n",
    "\n",
    "problem = Problem(\n",
    "\tn_var=n_var.value,\n",
    "\tn_obj=n_obj.value,\n",
    "\tn_constr=0,\n",
    "\txl=-3,\n",
    "\txu=+3,\n",
    ")\n",
    "\n",
    "algorithm = NSGA2(\n",
    "\tpop_size=100,\n",
    "\tcrossover=UniformCrossover(prob=1.0),\n",
    ")\n",
    "algorithm.setup(problem, termination=NoTermination());"
   ]
  },
  {
   "cell_type": "code",
   "execution_count": 5,
   "id": "5b02a0cf",
   "metadata": {},
   "outputs": [],
   "source": [
    "# rerun for as many generations as you need\n",
    "pop = algorithm.ask()\n",
    "if algorithm.n_gen == 1:\n",
    "\tfor p, r in zip(pop, np.loadtxt('params.txt', delimiter=',', ndmin=2)):\n",
    "\t\tif p.X.shape == r.shape: p.X = r\n",
    "\n",
    "X = pop.get('X')\n",
    "F = np.empty((X.shape[0], n_obj.value))\n",
    "\n",
    "pool.starmap(rnn_trader_run, zip(np.ctypeslib.as_ctypes(X), np.ctypeslib.as_ctypes(F)))\n",
    "Evaluator().eval(StaticProblem(problem, F=F), pop)\n",
    "algorithm.tell(infills=pop)\n",
    "\n",
    "res = algorithm.result()"
   ]
  },
  {
   "cell_type": "code",
   "execution_count": 6,
   "id": "239a27bc",
   "metadata": {},
   "outputs": [
    {
     "name": "stdout",
     "output_type": "stream",
     "text": [
      "gen: 1  profitable: 3\n",
      "0.1141, 0.0796%, 1\n",
      "0.6114, 0.0960%, 1\n",
      "0.0060, 2.0256%, 2\n"
     ]
    }
   ],
   "source": [
    "print(f'gen: {algorithm.n_gen - 1}  profitable: {(res.F[:, 0] < 0).sum()}')\n",
    "for profit, mdd, n_pos, _ in res.F:\n",
    "\tprofit = -profit\n",
    "\tmdd *= 100\n",
    "\tn_pos = round(math.exp(-n_pos) - 1)\n",
    "\n",
    "\tif profit < -.001 or n_pos == 0: continue\n",
    "\n",
    "\tprint(f'{profit:.4f}, {mdd:.4f}%, {n_pos}')\n",
    "\n",
    "np.savetxt('params.txt', res.X[res.F[:, 0] < 0], delimiter=', ')"
   ]
  }
 ],
 "metadata": {
  "kernelspec": {
   "display_name": ".venv",
   "language": "python",
   "name": "python3"
  },
  "language_info": {
   "codemirror_mode": {
    "name": "ipython",
    "version": 3
   },
   "file_extension": ".py",
   "mimetype": "text/x-python",
   "name": "python",
   "nbconvert_exporter": "python",
   "pygments_lexer": "ipython3",
   "version": "3.10.12"
  }
 },
 "nbformat": 4,
 "nbformat_minor": 5
}
