{
 "cells": [
  {
   "cell_type": "code",
   "execution_count": null,
   "id": "0616d265",
   "metadata": {},
   "outputs": [],
   "source": [
    "!mkdir -p data\n",
    "!wget -nc https://data.binance.vision/data/spot/monthly/klines/XRPUSDT/1s/XRPUSDT-1s-2025-02.zip -O data/XRPUSDT-1s-2025-02.zip"
   ]
  },
  {
   "cell_type": "code",
   "execution_count": null,
   "id": "36dc69d9",
   "metadata": {},
   "outputs": [],
   "source": [
    "import zipfile\n",
    "\n",
    "import numpy as np\n",
    "\n",
    "import binance_column_names as bcn\n",
    "\n",
    "with zipfile.ZipFile('data/XRPUSDT-1s-2025-02.zip', 'r') as zf:\n",
    "\twith zf.open('XRPUSDT-1s-2025-02.csv') as f:\n",
    "\t\tdata = np.loadtxt(\n",
    "\t\t\tf,\n",
    "\t\t\tdelimiter=',',\n",
    "\t\t\tusecols=range(0, 6), # open time, open, high, low, close, volume\n",
    "\t\t\tdtype={\n",
    "\t\t\t\t'names': bcn.names[:6],\n",
    "\t\t\t\t'formats': [np.int64] + [np.float64] * 5,\n",
    "\t\t\t},\n",
    "\t\t\t# skiprows=5*24*60*60,\n",
    "\t\t\tmax_rows=17*24*60*60,\n",
    "\t\t)"
   ]
  },
  {
   "cell_type": "code",
   "execution_count": null,
   "id": "a629b39a",
   "metadata": {},
   "outputs": [],
   "source": [
    "!cmake -DCMAKE_EXPORT_COMPILE_COMMANDS:BOOL=TRUE -Bbuild && cmake --build build --target rnn_trader\n",
    "\n",
    "import ctypes\n",
    "\n",
    "lib =  ctypes.CDLL('./build/librnn_trader.so')\n",
    "n_var = ctypes.c_size_t.in_dll(lib, 'rnn_trader_var').value\n",
    "\n",
    "rnn_trader_run = lib.rnn_trader_run\n",
    "rnn_trader_run.restype = None\n",
    "rnn_trader_run.argtypes = [\n",
    "\tctypes.c_void_p, # candles\n",
    "\tctypes.c_size_t, # candle_count\n",
    "\tctypes.c_double * n_var, # params\n",
    "\tctypes.c_void_p, # out\n",
    "]"
   ]
  },
  {
   "cell_type": "code",
   "execution_count": null,
   "id": "da3f8446",
   "metadata": {},
   "outputs": [],
   "source": [
    "from IPython.display import display_markdown\n",
    "import pathlib\n",
    "from multiprocessing.pool import ThreadPool as Pool\n",
    "\n",
    "pathlib.Path('params').mkdir(exist_ok=True)\n",
    "pool = Pool()\n",
    "\n",
    "from pymoo.algorithms.moo.nsga2 import NSGA2\n",
    "from pymoo.core.evaluator import Evaluator\n",
    "from pymoo.core.problem import Problem\n",
    "from pymoo.core.termination import NoTermination\n",
    "from pymoo.operators.crossover.ux import UniformCrossover\n",
    "from pymoo.operators.survival.rank_and_crowding import RankAndCrowding\n",
    "from pymoo.problems.static import StaticProblem\n",
    "\n",
    "POP_SIZE = 60\n",
    "SUBPERIODS = 3\n",
    "F = np.empty((POP_SIZE, SUBPERIODS + 1), dtype=np.float64) # return per subperiod, and total return\n",
    "OUT = np.empty((POP_SIZE, SUBPERIODS), dtype=[('ret', 'f8'), ('mdd', 'f8'), ('npos', 'i8')])\n",
    "\n",
    "problem = Problem(\n",
    "\tn_var=n_var,\n",
    "\tn_obj=SUBPERIODS + 1,\n",
    "\tn_constr=0,\n",
    "\txl=-3,\n",
    "\txu=+3,\n",
    ")\n",
    "\n",
    "algorithm = NSGA2(\n",
    "\tpop_size=POP_SIZE,\n",
    "\tcrossover=UniformCrossover(prob=1.0),\n",
    "\tsurvival=RankAndCrowding(crowding_func='mnn'),\n",
    ")\n",
    "algorithm.setup(problem, termination=NoTermination());"
   ]
  },
  {
   "cell_type": "code",
   "execution_count": null,
   "id": "5b02a0cf",
   "metadata": {},
   "outputs": [],
   "source": [
    "# rerun for as many generations as you need\n",
    "pop = algorithm.ask()\n",
    "if algorithm.n_gen == 1:\n",
    "\ttry:\n",
    "\t\tfor p, r in zip(pop, np.loadtxt(f'params/{n_var}.txt', delimiter=',', ndmin=2)): p.X = r\n",
    "\texcept FileNotFoundError: pass\n",
    "\n",
    "for subperiod in range(SUBPERIODS):\n",
    "\tcandles_per_subperiod = data.shape[0] // SUBPERIODS\n",
    "\tcandles = data[subperiod * candles_per_subperiod:].ctypes.data_as(ctypes.c_void_p)\n",
    "\tpool.starmap(\n",
    "\t\tlambda individual, out: rnn_trader_run(\n",
    "\t\t\tcandles, candles_per_subperiod,\n",
    "\t\t\tnp.ctypeslib.as_ctypes(individual.X), np.ctypeslib.as_ctypes(out)\n",
    "\t\t),\n",
    "\t\tzip(pop, OUT[:, subperiod].view((np.float64, 3))),\n",
    "\t)\n",
    "\tF[:, subperiod] = -OUT[:, subperiod]['ret'] # negating for maximization\n",
    "F[:, -1] = F[:, :-1].sum(axis=1) # total return\n",
    "Evaluator().eval(StaticProblem(problem, F=F, out=OUT), pop)\n",
    "algorithm.tell(infills=pop)\n",
    "\n",
    "res = algorithm.result()"
   ]
  },
  {
   "cell_type": "code",
   "execution_count": null,
   "id": "239a27bc",
   "metadata": {},
   "outputs": [
    {
     "data": {
      "text/markdown": [
       "gen: 1  always-profitable: 2\n",
       "| profits | tot. profit |\n",
       "| --- | --: |\n",
       "| 0.1493 0.9784 1.5726 | 2.7003 |\n",
       "| 0.0801 4.7306 1.5924 | 6.4030 |\n"
      ]
     },
     "metadata": {},
     "output_type": "display_data"
    }
   ],
   "source": [
    "profits, tot_profits, out = -res.F[:, :-1], -res.F[:, -1], res.pop.get('out')\n",
    "\n",
    "output = f'gen: {algorithm.n_gen - 1}  always-profitable: {(profits > 0).all(axis=1).sum()}\\n'\n",
    "output += '| profits | tot. profit |\\n| --- | --: |\\n'\n",
    "for profit, tot_profit, npos in zip(profits, tot_profits, out['npos'].sum(axis=1)):\n",
    "\tif not ((npos and profit.min() > -1) or tot_profit > 0): continue\n",
    "\n",
    "\toutput += f'| {np.array2string(profit, precision=4)[1:-1]} | {tot_profit:.4f} |\\n'\n",
    "\n",
    "display_markdown(output, raw=True)\n",
    "with open(f'params/{n_var}.txt', 'w') as f: np.savetxt(f, res.X[(profits > 0).all(axis=1)], delimiter=', ')"
   ]
  }
 ],
 "metadata": {
  "kernelspec": {
   "display_name": ".venv",
   "language": "python",
   "name": "python3"
  },
  "language_info": {
   "codemirror_mode": {
    "name": "ipython",
    "version": 3
   },
   "file_extension": ".py",
   "mimetype": "text/x-python",
   "name": "python",
   "nbconvert_exporter": "python",
   "pygments_lexer": "ipython3",
   "version": "3.10.12"
  }
 },
 "nbformat": 4,
 "nbformat_minor": 5
}
